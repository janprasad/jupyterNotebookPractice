{
 "cells": [
  {
   "cell_type": "markdown",
   "id": "5d27a03b",
   "metadata": {},
   "source": [
    "# Basic Intro to Jupyter Notebook\n",
    "\n",
    "This is a Markdown cell\n",
    "\n",
    "You can have:\n",
    "1. Lists (ordered or unordered)\n",
    "2. *Italics*\n",
    "3. **bold**\n",
    "4. code blocks\n",
    "5. etc.\n",
    "\n",
    "Here is an example of code block:\n",
    "The ` is below the tilde\n",
    "```\n",
    "x=\"hello world\"\n",
    "print(x)\n",
    "```"
   ]
  },
  {
   "cell_type": "code",
   "execution_count": 1,
   "id": "9537c3ab",
   "metadata": {},
   "outputs": [
    {
     "name": "stdout",
     "output_type": "stream",
     "text": [
      "hello world\n"
     ]
    }
   ],
   "source": [
    "# This is a code cell\n",
    "x = \"hello world\"\n",
    "\n",
    "print(x)"
   ]
  },
  {
   "cell_type": "code",
   "execution_count": 2,
   "id": "8b49d78c",
   "metadata": {},
   "outputs": [
    {
     "data": {
      "text/plain": [
       "'hello world'"
      ]
     },
     "execution_count": 2,
     "metadata": {},
     "output_type": "execute_result"
    }
   ],
   "source": [
    "x"
   ]
  },
  {
   "cell_type": "code",
   "execution_count": 3,
   "id": "1f8394c4",
   "metadata": {},
   "outputs": [],
   "source": [
    "y = \"goodbye world!\""
   ]
  },
  {
   "cell_type": "code",
   "execution_count": 6,
   "id": "5604d019",
   "metadata": {},
   "outputs": [
    {
     "name": "stdout",
     "output_type": "stream",
     "text": [
      "goodbye world!\n"
     ]
    }
   ],
   "source": [
    "print(y)"
   ]
  },
  {
   "cell_type": "markdown",
   "id": "1baa7cd8",
   "metadata": {},
   "source": [
    "Markdown is basically plain text\n",
    "\n",
    "# Header 1\n",
    "\n",
    "the above line is a header. We can also *italizes* words by adding one star in front and after the word.\n",
    "\n",
    "## Header 2\n",
    "\n",
    "you can also **bold** a text by adding two stars before and after a word."
   ]
  },
  {
   "cell_type": "code",
   "execution_count": null,
   "id": "052ab852",
   "metadata": {},
   "outputs": [],
   "source": []
  }
 ],
 "metadata": {
  "kernelspec": {
   "display_name": "Python 3 (ipykernel)",
   "language": "python",
   "name": "python3"
  },
  "language_info": {
   "codemirror_mode": {
    "name": "ipython",
    "version": 3
   },
   "file_extension": ".py",
   "mimetype": "text/x-python",
   "name": "python",
   "nbconvert_exporter": "python",
   "pygments_lexer": "ipython3",
   "version": "3.9.12"
  }
 },
 "nbformat": 4,
 "nbformat_minor": 5
}
